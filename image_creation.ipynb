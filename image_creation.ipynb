{
 "cells": [
  {
   "cell_type": "code",
   "execution_count": 1,
   "metadata": {},
   "outputs": [],
   "source": [
    "import numpy as np\n",
    "import matplotlib.pyplot as plt\n",
    "from sklearn import datasets\n",
    "from sklearn.model_selection import train_test_split\n",
    "from sklearn.preprocessing import StandardScaler\n",
    "from sklearn.svm import SVC\n",
    "from sklearn.metrics import classification_report, accuracy_score, confusion_matrix\n"
   ]
  },
  {
   "cell_type": "code",
   "execution_count": 3,
   "metadata": {},
   "outputs": [
    {
     "name": "stdout",
     "output_type": "stream",
     "text": [
      "images shape: (1797, 8, 8)\n",
      "Labels shape: (1797,)\n"
     ]
    }
   ],
   "source": [
    "digits = datasets.load_digits()\n",
    "\n",
    "print(f\"images shape: {digits.images.shape}\")\n",
    "print(f\"Labels shape: {digits.target.shape}\")\n"
   ]
  },
  {
   "cell_type": "code",
   "execution_count": 5,
   "metadata": {},
   "outputs": [],
   "source": [
    "X = digits.images.reshape((len(digits.images), -1))\n",
    "y = digits.target\n",
    "\n",
    "scaler = StandardScaler()\n",
    "X = scaler.fit_transform(X)\n",
    "\n",
    "#split the data into training and the test data sets\n",
    "X_train, X_test, y_train, y_test = train_test_split(X,y, test_size=0.3, random_state= 42)\n"
   ]
  },
  {
   "cell_type": "code",
   "execution_count": 9,
   "metadata": {},
   "outputs": [],
   "source": [
    "svm_model = SVC(kernel='rbf', gamma= 0.001, C=1.0)\n",
    "svm_model.fit(X_train, y_train)\n",
    "\n",
    "y_pred = svm_model.predict(X_test)\n"
   ]
  },
  {
   "cell_type": "code",
   "execution_count": 15,
   "metadata": {},
   "outputs": [
    {
     "name": "stdout",
     "output_type": "stream",
     "text": [
      "Accuracy 0.9425925925925925\n",
      "\n",
      " confussion matrix\n",
      " [[53  0  0  0  0  0  0  0  0  0]\n",
      " [ 0 45  1  0  0  0  0  0  2  2]\n",
      " [ 0  1 44  0  0  0  0  0  2  0]\n",
      " [ 0  0  2 47  0  1  0  0  4  0]\n",
      " [ 0  0  0  0 60  0  0  0  0  0]\n",
      " [ 0  0  0  0  1 62  1  0  0  2]\n",
      " [ 1  0  0  0  0  0 52  0  0  0]\n",
      " [ 0  0  0  0  0  0  0 54  0  1]\n",
      " [ 0  3  0  0  0  1  0  0 39  0]\n",
      " [ 0  0  0  1  0  1  0  2  2 53]]\n",
      "\n",
      " classification report\n",
      "               precision    recall  f1-score   support\n",
      "\n",
      "           0       0.98      1.00      0.99        53\n",
      "           1       0.92      0.90      0.91        50\n",
      "           2       0.94      0.94      0.94        47\n",
      "           3       0.98      0.87      0.92        54\n",
      "           4       0.98      1.00      0.99        60\n",
      "           5       0.95      0.94      0.95        66\n",
      "           6       0.98      0.98      0.98        53\n",
      "           7       0.96      0.98      0.97        55\n",
      "           8       0.80      0.91      0.85        43\n",
      "           9       0.91      0.90      0.91        59\n",
      "\n",
      "    accuracy                           0.94       540\n",
      "   macro avg       0.94      0.94      0.94       540\n",
      "weighted avg       0.94      0.94      0.94       540\n",
      "\n"
     ]
    }
   ],
   "source": [
    "accuracy = accuracy_score(y_test,y_pred)\n",
    "conf_matrix = confusion_matrix(y_test,y_pred)\n",
    "report = classification_report(y_test,y_pred)\n",
    "\n",
    "\n",
    "print(\"Accuracy\", accuracy)\n",
    "print(\"\\n confussion matrix\\n\", conf_matrix)\n",
    "print(\"\\n classification report\\n\", report)\n"
   ]
  }
 ],
 "metadata": {
  "kernelspec": {
   "display_name": "base",
   "language": "python",
   "name": "python3"
  },
  "language_info": {
   "codemirror_mode": {
    "name": "ipython",
    "version": 3
   },
   "file_extension": ".py",
   "mimetype": "text/x-python",
   "name": "python",
   "nbconvert_exporter": "python",
   "pygments_lexer": "ipython3",
   "version": "3.11.5"
  }
 },
 "nbformat": 4,
 "nbformat_minor": 2
}
