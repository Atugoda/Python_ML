{
 "cells": [
  {
   "cell_type": "code",
   "execution_count": 1,
   "metadata": {},
   "outputs": [],
   "source": [
    "import pandas as pd\n",
    "import numpy as np\n",
    "from sklearn.linear_model import LogisticRegression\n",
    "from sklearn.model_selection import train_test_split\n",
    "from sklearn.metrics import classification_report, accuracy_score, confusion_matrix\n"
   ]
  },
  {
   "cell_type": "code",
   "execution_count": 3,
   "metadata": {},
   "outputs": [
    {
     "name": "stdout",
     "output_type": "stream",
     "text": [
      "<class 'pandas.core.frame.DataFrame'>\n",
      "RangeIndex: 2512 entries, 0 to 2511\n",
      "Data columns (total 16 columns):\n",
      " #   Column                   Non-Null Count  Dtype  \n",
      "---  ------                   --------------  -----  \n",
      " 0   TransactionID            2512 non-null   object \n",
      " 1   AccountID                2512 non-null   object \n",
      " 2   TransactionAmount        2512 non-null   float64\n",
      " 3   TransactionDate          2512 non-null   object \n",
      " 4   TransactionType          2512 non-null   object \n",
      " 5   Location                 2512 non-null   object \n",
      " 6   DeviceID                 2512 non-null   object \n",
      " 7   IP Address               2512 non-null   object \n",
      " 8   MerchantID               2512 non-null   object \n",
      " 9   Channel                  2512 non-null   object \n",
      " 10  CustomerAge              2512 non-null   int64  \n",
      " 11  CustomerOccupation       2512 non-null   object \n",
      " 12  TransactionDuration      2512 non-null   int64  \n",
      " 13  LoginAttempts            2512 non-null   int64  \n",
      " 14  AccountBalance           2512 non-null   float64\n",
      " 15  PreviousTransactionDate  2512 non-null   object \n",
      "dtypes: float64(2), int64(3), object(11)\n",
      "memory usage: 314.1+ KB\n",
      "None\n",
      "       TransactionAmount  CustomerAge  TransactionDuration  LoginAttempts  \\\n",
      "count        2512.000000  2512.000000          2512.000000    2512.000000   \n",
      "mean          297.593778    44.673965           119.643312       1.124602   \n",
      "std           291.946243    17.792198            69.963757       0.602662   \n",
      "min             0.260000    18.000000            10.000000       1.000000   \n",
      "25%            81.885000    27.000000            63.000000       1.000000   \n",
      "50%           211.140000    45.000000           112.500000       1.000000   \n",
      "75%           414.527500    59.000000           161.000000       1.000000   \n",
      "max          1919.110000    80.000000           300.000000       5.000000   \n",
      "\n",
      "       AccountBalance  \n",
      "count     2512.000000  \n",
      "mean      5114.302966  \n",
      "std       3900.942499  \n",
      "min        101.250000  \n",
      "25%       1504.370000  \n",
      "50%       4735.510000  \n",
      "75%       7678.820000  \n",
      "max      14977.990000  \n",
      "Missing values:\n",
      " TransactionID              0\n",
      "AccountID                  0\n",
      "TransactionAmount          0\n",
      "TransactionDate            0\n",
      "TransactionType            0\n",
      "Location                   0\n",
      "DeviceID                   0\n",
      "IP Address                 0\n",
      "MerchantID                 0\n",
      "Channel                    0\n",
      "CustomerAge                0\n",
      "CustomerOccupation         0\n",
      "TransactionDuration        0\n",
      "LoginAttempts              0\n",
      "AccountBalance             0\n",
      "PreviousTransactionDate    0\n",
      "dtype: int64\n"
     ]
    }
   ],
   "source": [
    "# Load the dataset\n",
    "data = pd.read_csv(\"C:/Users/LENOVO/Downloads/bank_transactions_data_2.csv\")\n",
    "\n",
    "# Display basic info\n",
    "print(data.info())\n",
    "print(data.describe())\n",
    "\n",
    "# Count missing values\n",
    "missing_values = data.isnull().sum()\n",
    "print(\"Missing values:\\n\", missing_values)\n"
   ]
  }
 ],
 "metadata": {
  "kernelspec": {
   "display_name": "base",
   "language": "python",
   "name": "python3"
  },
  "language_info": {
   "codemirror_mode": {
    "name": "ipython",
    "version": 3
   },
   "file_extension": ".py",
   "mimetype": "text/x-python",
   "name": "python",
   "nbconvert_exporter": "python",
   "pygments_lexer": "ipython3",
   "version": "3.11.5"
  }
 },
 "nbformat": 4,
 "nbformat_minor": 2
}
